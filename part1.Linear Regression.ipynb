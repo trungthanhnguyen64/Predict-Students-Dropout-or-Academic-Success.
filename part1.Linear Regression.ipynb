{
 "cells": [
  {
   "cell_type": "markdown",
   "metadata": {},
   "source": [
    "# Giới thiệu\n",
    "\n",
    "### Mục tiêu bài tập\n",
    "\n",
    "* Hiểu thêm về cách hoạt động của Numpy và Tensorflow \n",
    "* Có thể viết một thuật toán đơn giản (và debug) với `Tensorflow` và `Numpy` qua ví dụ về hồi quy tuyến tính.\n",
    "* Hiểu thêm về hồi quy tuyến tính.\n",
    "* Tối ưu các tham số của mô hình.\n",
    "\n",
    "# Giới thiệu bài toán và dữ liệu\n",
    "\n",
    "Bài toán lần này, chúng ta sẽ cùng nhau dự đoán giá nhà tại một thành phố Boston ở Mỹ với kích thước mẫu với 506 giá trị với 13 thuộc tính như sau\n",
    "\n",
    "```\n",
    "- CRIM per capita crime rate by town\n",
    "- ZN proportion of residential land zoned for lots over 25,000 sq.ft.\n",
    "- INDUS proportion of non-retail business acres per town\n",
    "- CHAS Charles River dummy variable (= 1 if tract bounds river; 0 otherwise)\n",
    "- NOX nitric oxides concentration (parts per 10 million)\n",
    "- RM average number of rooms per dwelling\n",
    "- AGE proportion of owner-occupied units built prior to 1940\n",
    "- DIS weighted distances to five Boston employment centres\n",
    "- RAD index of accessibility to radial highways\n",
    "- TAX full-value property-tax rate per $10,000\n",
    "- PTRATIO pupil-teacher ratio by town\n",
    "- B 1000(Bk - 0.63)ˆ2 where Bk is the proportion of blacks by town\n",
    "- LSTAT % lower status of the population\n",
    "- MEDV Median value of owner-occupied homes in $1000's\n",
    "```\n",
    "\n",
    "Với thông tin này, ta sẽ cùng nhau tiến hành xây dựng một hàm giả thuyết theo mô hình hồi quy tuyến tính dựa trên `numpy` và `tensorflow` để đưa ra giá nhà dựa trên tối đa 10 thuộc tính.\n",
    "# Chấm điểm\n",
    "Bài tập này chiếm 50% số điểm cuối kì của mỗi bạn. Điểm được chấm dựa trên các yếu tố sau:\n",
    "\n",
    "### Báo cáo đầy đủ rõ ràng các công việc đã làm, chứng minh được công việc đã làm thỏa các yêu cầu của đề bài (2 điểm)\n",
    "\n",
    "### Chương trình chạy được huấn luyện được mô hình, tính toán được Jtest, Jtrain\n",
    "+ load dữ liệu (1 điểm)\n",
    "+ trình bày dữ liệu trước khi huấn luyện (1 điểm)\n",
    "+ xây dựng được mô hình (1 điểm)\n",
    "+ tính được độ chính xác của mô hình với tập huấn luyện, tập cross validation, tập test (1 điểm)\n",
    "\n",
    "### Tối ưu hóa được các tham số của mô hình (4 điểm)\n",
    "+ tối ưu được các tham số cho mô hình và giải thích. Được chọn tối đa 10 thuộc tính trong số các thuộc tính được cung cấp.\n",
    "\n",
    "Ghi chú: khi vấn đáp mỗi thành viên sẽ được hỏi một câu bất kì liên quan đến các phần trên"
   ]
  },
  {
   "cell_type": "markdown",
   "metadata": {},
   "source": [
    "### I/ Tìm nghiệm bài toán Linear Regression bằng `Numpy`"
   ]
  },
  {
   "cell_type": "markdown",
   "metadata": {},
   "source": [
    "#### Nhập thư viện"
   ]
  },
  {
   "cell_type": "code",
   "execution_count": 4,
   "metadata": {},
   "outputs": [],
   "source": [
    "import numpy as np\n",
    "import pandas as pd\n",
    "import matplotlib.pyplot as plt\n",
    "%matplotlib inline"
   ]
  },
  {
   "cell_type": "markdown",
   "metadata": {},
   "source": [
    "#### Đọc dữ liệu"
   ]
  },
  {
   "cell_type": "code",
   "execution_count": 5,
   "metadata": {},
   "outputs": [
    {
     "ename": "ModuleNotFoundError",
     "evalue": "No module named 'utils_function'",
     "output_type": "error",
     "traceback": [
      "\u001b[1;31m---------------------------------------------------------------------------\u001b[0m",
      "\u001b[1;31mModuleNotFoundError\u001b[0m                       Traceback (most recent call last)",
      "\u001b[1;32me:\\STUDY\\20212\\AI\\Project-AI\\Part1\\Linear Regression.ipynb Cell 6'\u001b[0m in \u001b[0;36m<cell line: 1>\u001b[1;34m()\u001b[0m\n\u001b[1;32m----> <a href='vscode-notebook-cell:/e%3A/STUDY/20212/AI/Project-AI/Part1/Linear%20Regression.ipynb#ch0000005?line=0'>1</a>\u001b[0m \u001b[39mfrom\u001b[39;00m \u001b[39mutils_function\u001b[39;00m \u001b[39mimport\u001b[39;00m load_Boston_housing_data\n\u001b[0;32m      <a href='vscode-notebook-cell:/e%3A/STUDY/20212/AI/Project-AI/Part1/Linear%20Regression.ipynb#ch0000005?line=2'>3</a>\u001b[0m train_X, test_X, train_y, test_y \u001b[39m=\u001b[39m load_Boston_housing_data(feature_ind \u001b[39m=\u001b[39m [\u001b[39m2\u001b[39m,\u001b[39m5\u001b[39m])\n",
      "\u001b[1;31mModuleNotFoundError\u001b[0m: No module named 'utils_function'"
     ]
    }
   ],
   "source": [
    "from utils_function import load_Boston_housing_data\n",
    "\n",
    "train_X, test_X, train_y, test_y = load_Boston_housing_data(feature_ind = [2,5])"
   ]
  },
  {
   "cell_type": "markdown",
   "metadata": {},
   "source": [
    "Vừa rồi, ta vừa mới tải tập dữ liệu xuống và chiết ra thành 4 tập. \n",
    "\n",
    "Trong đó, `train_X` và `train_Y` được dùng để xây dựng mô hình. Còn `test_X`, `test_Y` được giữ lại và chỉ được dùng để đánh giá độ tốt của mô hình ở phút cuối. \n",
    "\n",
    "Tỉ lệ được chia ra giữa các phần xây dựng và kiểm chứng là 1:4 Sau này, chúng ta sẽ học kỹ hơn về phần này nên phần đánh giá độ tốt của mô hình mình chỉ dừng lại ở mức là thực thi câu hàm đánh giá.\n",
    "\n",
    "Để đơn giản, dữ liệu được lấy vào chỉ gồm 2 đặc tính\n",
    "\n",
    "```\n",
    "    - INDUS proportion of non-retail business acres per town\n",
    "    - RM average number of rooms per dwelling\n",
    "```\n",
    "\n",
    "Tạm dịch\n",
    "\n",
    "```\n",
    "    - INDUS: tỷ lệ diện tích không dùng cho kinh doanh bán lẻ mỗi thị trấn\n",
    "    - RM: số phòng trung bình mỗi căn hộ/ nhà\n",
    "```"
   ]
  },
  {
   "cell_type": "markdown",
   "metadata": {},
   "source": [
    "Bạn có thể lấy thêm các đặc tính khác qua việc thiết lập lại hàm `load_data` như sau"
   ]
  },
  {
   "cell_type": "code",
   "execution_count": null,
   "metadata": {},
   "outputs": [],
   "source": [
    "load_Boston_housing_data?"
   ]
  },
  {
   "cell_type": "markdown",
   "metadata": {},
   "source": [
    "Để hiểu thêm về tập dữ liệu ta có thể làm thêm một số minh họa như sau"
   ]
  },
  {
   "cell_type": "markdown",
   "metadata": {},
   "source": [
    "#### Minh họa dữ liệu"
   ]
  },
  {
   "cell_type": "code",
   "execution_count": null,
   "metadata": {},
   "outputs": [
    {
     "data": {
      "image/png": "[encoded data removed]",
      "text/plain": [
       "<Figure size 432x288 with 1 Axes>"
      ]
     },
     "metadata": {
      "needs_background": "light"
     },
     "output_type": "display_data"
    },
    {
     "data": {
      "image/png": "[encoded data removed]",
      "text/plain": [
       "<Figure size 432x288 with 1 Axes>"
      ]
     },
     "metadata": {
      "needs_background": "light"
     },
     "output_type": "display_data"
    }
   ],
   "source": [
    "from utils_function import scatter_plot\n",
    "\n",
    "scatter_plot(train_X[:, 0], train_y,\\\n",
    "            title=\"Industrialness vs Med House Price\",\\\n",
    "            x_label = \"Industrialness\",\\\n",
    "            y_label = \"Med House Price\")\n",
    "\n",
    "\n",
    "scatter_plot(train_X[:, 1], train_y,\\\n",
    "            title=\"Avg Num Rooms vs Med House Price\",\\\n",
    "            x_label = \"Avg Num Rooms\",\\\n",
    "            y_label = \"Med House Price\")"
   ]
  },
  {
   "cell_type": "markdown",
   "metadata": {},
   "source": [
    "Hiên thời, vecto của ta đang có dạng như sau:"
   ]
  },
  {
   "cell_type": "code",
   "execution_count": null,
   "metadata": {},
   "outputs": [
    {
     "name": "stdout",
     "output_type": "stream",
     "text": [
      "Size of data X train matrix (404, 2)\n",
      "Size of data Y train array (404,)\n",
      "Size of data X test matrix (102, 2)\n",
      "Size of data Y test array (102,)\n"
     ]
    }
   ],
   "source": [
    "print(\"Size of data X train matrix %s\"  % str(train_X.shape))\n",
    "print(\"Size of data Y train array %s\"  % str(train_y.shape))\n",
    "print(\"Size of data X test matrix %s\"  % str(test_X.shape))\n",
    "print(\"Size of data Y test array %s\"  % str(test_y.shape))"
   ]
  },
  {
   "cell_type": "code",
   "execution_count": null,
   "metadata": {},
   "outputs": [
    {
     "name": "stdout",
     "output_type": "stream",
     "text": [
      "Requirement already satisfied: scikit-learn in /home/hqphat/anaconda3/lib/python3.9/site-packages (1.0.2)\n",
      "Requirement already satisfied: threadpoolctl>=2.0.0 in /home/hqphat/anaconda3/lib/python3.9/site-packages (from scikit-learn) (2.2.0)\n",
      "Requirement already satisfied: joblib>=0.11 in /home/hqphat/anaconda3/lib/python3.9/site-packages (from scikit-learn) (1.1.0)\n",
      "Requirement already satisfied: numpy>=1.14.6 in /home/hqphat/anaconda3/lib/python3.9/site-packages (from scikit-learn) (1.21.5)\n",
      "Requirement already satisfied: scipy>=1.1.0 in /home/hqphat/anaconda3/lib/python3.9/site-packages (from scikit-learn) (1.7.3)\n"
     ]
    }
   ],
   "source": [
    "!pip install scikit-learn"
   ]
  },
  {
   "cell_type": "markdown",
   "metadata": {},
   "source": [
    "#### Bài 1. Viết hàm cost function\n",
    "$$J(w) = \\frac{1}{m} \\sum_{i=1}^m loss(\\hat{y}^{(i)}, y^{(i)})= \\frac{1}{2m} \\sum_{i=1}^m (\\hat{y}^{(i)}-y^{(i)})^2 $$\n",
    "Khai triển, ta có kết quả:\n",
    "$$J(w) = \\frac{1}{2m} \\sum_{i=1}^m (w_1 x_1^{(i)} + w_2 x_2^{(i)} + b - y^{(i)})^2 $$"
   ]
  },
  {
   "cell_type": "markdown",
   "metadata": {},
   "source": [
    "#### 1.1. Viết chương trình"
   ]
  },
  {
   "cell_type": "code",
   "execution_count": 6,
   "metadata": {},
   "outputs": [],
   "source": [
    "def np_cost(w, b, X, y):\n",
    "    '''\n",
    "    Evaluate the cost function in a non-vectorized manner for \n",
    "    inputs `X` and targets `y`, at weights `w` and `b`.\n",
    "    \n",
    "    X: 2D array dataset that has (m, n) dimension. \n",
    "    y: list of targets that has (n, ) dimension.\n",
    "    w: list of weights that has (n, ) dimension\n",
    "    b: a scalar bias.\n",
    "    \n",
    "    Return a scalar cost value of `w`, `b`.\n",
    "    '''\n",
    "    \n",
    "    cost = 0\n",
    "    m = X.shape[0]\n",
    "    for i in range(m):\n",
    "        \n",
    "        # TODO: complete below expression to calculate cost function\n",
    "        y_hat = w[0]*X[i, 0] + w[1]*X[i, 1] + b # hypothesis\n",
    "        cost += (y_hat - y[i])**2 # sum cost of each data point.\n",
    "        \n",
    "    return cost/(2*m)"
   ]
  },
  {
   "cell_type": "markdown",
   "metadata": {},
   "source": [
    "#### 1.2 Chạy thử chương trình "
   ]
  },
  {
   "cell_type": "code",
   "execution_count": 7,
   "metadata": {},
   "outputs": [
    {
     "ename": "NameError",
     "evalue": "name 'train_X' is not defined",
     "output_type": "error",
     "traceback": [
      "\u001b[1;31m---------------------------------------------------------------------------\u001b[0m",
      "\u001b[1;31mNameError\u001b[0m                                 Traceback (most recent call last)",
      "\u001b[1;32me:\\STUDY\\20212\\AI\\Project-AI\\Part1\\Linear Regression.ipynb Cell 20'\u001b[0m in \u001b[0;36m<cell line: 1>\u001b[1;34m()\u001b[0m\n\u001b[1;32m----> <a href='vscode-notebook-cell:/e%3A/STUDY/20212/AI/Project-AI/Part1/Linear%20Regression.ipynb#ch0000019?line=0'>1</a>\u001b[0m np_cost([\u001b[39m3\u001b[39m, \u001b[39m5\u001b[39m], \u001b[39m20\u001b[39m, train_X, train_y)\n",
      "\u001b[1;31mNameError\u001b[0m: name 'train_X' is not defined"
     ]
    }
   ],
   "source": [
    "np_cost([3, 5], 20, train_X, train_y) # 2256.1627893564355"
   ]
  },
  {
   "cell_type": "code",
   "execution_count": null,
   "metadata": {},
   "outputs": [
    {
     "data": {
      "text/plain": [
       "1210.8142745049508"
      ]
     },
     "execution_count": 12,
     "metadata": {},
     "output_type": "execute_result"
    }
   ],
   "source": [
    "np_cost([3, 5], 0, train_X, train_y) # 1210.8142745049508"
   ]
  },
  {
   "cell_type": "markdown",
   "metadata": {},
   "source": [
    "#### Bài 2. Vector hóa hàm cost\n",
    "\n",
    "Ngoài ra, ta còn có thể viết lại công thức trên như sau:\n",
    "\n",
    "$$J(w) = \\frac{1}{2m} \\| X w + b  - y \\| ^2$$ "
   ]
  },
  {
   "cell_type": "markdown",
   "metadata": {},
   "source": [
    "#### 2.1 Viết chương trình"
   ]
  },
  {
   "cell_type": "code",
   "execution_count": null,
   "metadata": {},
   "outputs": [],
   "source": [
    "def np_cost_vectorized(w, b, X, y):\n",
    "    '''\n",
    "    Evaluate the cost function in a vectorized manner for \n",
    "    inputs `X` and targets `t`, at weights `w` and `b`.\n",
    "    \n",
    "    X: dataset matrix has (m, n) dimension. \n",
    "    y: targets vector has (n, ) dimension.\n",
    "    w: weights vector has (n, ) dimension\n",
    "    b: a scalar bias.\n",
    "    \n",
    "    Return a scalar cost value of `w`, `b`.\n",
    "    '''\n",
    "    \n",
    "    #TODO: Complete the following expression\n",
    "    m = X.shape[0] # number of samples in dataset\n",
    "    w = np.array(w) # convert to numpy array\n",
    "    y_hat = np.dot(X, w) + b# hypothesis\n",
    "    \n",
    "    return np.sum((y_hat - y)**2)/(2*m)"
   ]
  },
  {
   "cell_type": "markdown",
   "metadata": {},
   "source": [
    "#### 2.2 Chạy thử chương trình"
   ]
  },
  {
   "cell_type": "code",
   "execution_count": null,
   "metadata": {},
   "outputs": [
    {
     "data": {
      "text/plain": [
       "2256.1627893564355"
      ]
     },
     "execution_count": 17,
     "metadata": {},
     "output_type": "execute_result"
    }
   ],
   "source": [
    "np_cost_vectorized([3, 5], 20, train_X, train_y) # 2256.1627893564355"
   ]
  },
  {
   "cell_type": "code",
   "execution_count": null,
   "metadata": {},
   "outputs": [
    {
     "data": {
      "text/plain": [
       "1210.8142745049504"
      ]
     },
     "execution_count": 18,
     "metadata": {},
     "output_type": "execute_result"
    }
   ],
   "source": [
    "np_cost_vectorized([3, 5], 0, train_X, train_y) # 1210.8142745049508"
   ]
  },
  {
   "cell_type": "markdown",
   "metadata": {},
   "source": [
    "#### Bài 4.Tính vector gradient của w\n",
    "\n",
    "Với $i = 1...m $ và $j = 1...n$ xét\n",
    "\n",
    "$$ \\frac{\\partial J}{\\partial w_j} = \\frac{1}{m}\\sum_{i=1}^m x_j^{(i)}(\\hat{y}^{(i)}-y^{(i)}) $$\n",
    "\n",
    "\n",
    "\n",
    "#### 4.1 Viết chương trình với vòng `for`"
   ]
  },
  {
   "cell_type": "code",
   "execution_count": null,
   "metadata": {},
   "outputs": [],
   "source": [
    "def np_grad_fn(w, X, y):\n",
    "    '''\n",
    "    Given `w` - a current \"Guess\" of what our weights should be\n",
    "          `X` - matrix of shape (m, n + 1) of input features\n",
    "          `y` - target y values\n",
    "    Return gradient of each weight evaluated at the current value\n",
    "    '''\n",
    "    \n",
    "    #TODO: Complete the below followed the above expressions\n",
    "    grad_w = np.zeros(np.array(w).shape)\n",
    "    m = X.shape[0]\n",
    "    y_hat = np.dot(X, w)\n",
    "    for j in range(grad_w.shape[0]):\n",
    "        for i in range(m):\n",
    "            grad_w[j] += (y_hat[i] - y[i])*X[i, j]/m\n",
    "    return grad_w"
   ]
  },
  {
   "cell_type": "code",
   "execution_count": null,
   "metadata": {},
   "outputs": [
    {
     "data": {
      "text/plain": [
       "array([-183.46936646, -130.26687224,  -19.93917772])"
      ]
     },
     "execution_count": 30,
     "metadata": {},
     "output_type": "execute_result"
    }
   ],
   "source": [
    "w = [0.1, 0.2, 0.3]\n",
    "np_grad_fn(w, train_X_new, train_y) #[-183.46936646, -130.26687224,  -19.93917772]"
   ]
  },
  {
   "cell_type": "markdown",
   "metadata": {},
   "source": [
    "#### 4.2 Write a program in vectorized form\n",
    "$$\\nabla J(w) = \\frac{1}{m} X^T \\left( Xw - y \\right)$$ "
   ]
  },
  {
   "cell_type": "code",
   "execution_count": null,
   "metadata": {},
   "outputs": [],
   "source": [
    "def np_grad_fn_vectorized(w, X, y):\n",
    "    '''\n",
    "    Given `w` - a current \"Guess\" of what our weights should be\n",
    "          `X` - matrix of shape (m, n + 1) of input features\n",
    "          `y` - target y values\n",
    "    Return gradient of each weight evaluated at the current value\n",
    "    '''\n",
    "    \n",
    "    #TODO: Complete the below followed the above expressions\n",
    "    m, n = X.shape\n",
    "    y_hat = np.dot(X, w)\n",
    "    grad_w = np.dot(X.T, y_hat - y)/m\n",
    "    \n",
    "    return grad_w"
   ]
  },
  {
   "cell_type": "code",
   "execution_count": null,
   "metadata": {},
   "outputs": [
    {
     "data": {
      "text/plain": [
       "array([-183.46936646, -130.26687224,  -19.93917772])"
      ]
     },
     "execution_count": 32,
     "metadata": {},
     "output_type": "execute_result"
    }
   ],
   "source": [
    "w = [0.1, 0.2, 0.3]\n",
    "np_grad_fn_vectorized(w, train_X_new, train_y) #[-183.46936646, -130.26687224,  -19.93917772]"
   ]
  },
  {
   "cell_type": "markdown",
   "metadata": {},
   "source": [
    "#### Bài  5. Tính dựa trên Gradient Descent\n",
    "\n",
    "Xấp xỉ giá trị $w$ như sau\n",
    "\n",
    "$$ w_j = w_j - \\alpha * \\frac{\\partial J}{\\partial w_j}$$\n",
    "\n",
    "#### 5.1 Viết chương trình"
   ]
  },
  {
   "cell_type": "code",
   "execution_count": null,
   "metadata": {},
   "outputs": [],
   "source": [
    "def np_solve_via_gradient_descent(X, y, print_every=5000,\n",
    "                                  niter=100000, alpha=0.005):\n",
    "    '''\n",
    "    Given `X` - matrix of shape (m, n+1) of input features\n",
    "          `y` - target y values\n",
    "    Solves for linear regression weights.\n",
    "    Return weights after `niter` iterations.\n",
    "    '''\n",
    "    m, n = X.shape\n",
    "    # initialize all the weights to zeros\n",
    "    w = np.zeros((n,))\n",
    "    for k in range(niter):\n",
    "        \n",
    "        #TODO: Complete the below followed the above expressions\n",
    "        dw = np_grad_fn_vectorized(w, X, y) \n",
    "        w = w - alpha*dw\n",
    "        \n",
    "        if k % print_every == 0:\n",
    "            print('Weight after %d iteration: %s' % (k, str(w)))\n",
    "    return w"
   ]
  },
  {
   "cell_type": "markdown",
   "metadata": {},
   "source": [
    "#### 5.2 Chạy thử chương trình"
   ]
  },
  {
   "cell_type": "code",
   "execution_count": null,
   "metadata": {},
   "outputs": [
    {
     "name": "stdout",
     "output_type": "stream",
     "text": [
      "Weight after 0 iteration: [1.08841881 0.73504649 0.11305941]\n",
      "Weight after 5000 iteration: [-0.52280011  5.12987932 -3.74261504]\n",
      "Weight after 10000 iteration: [-0.49539334  5.64092276 -7.29776997]\n",
      "Weight after 15000 iteration: [ -0.47316887   6.05533373 -10.18068575]\n",
      "Weight after 20000 iteration: [ -0.4551468    6.39138431 -12.5184751 ]\n",
      "Weight after 25000 iteration: [ -0.44053249   6.66389158 -14.41421522]\n",
      "Weight after 30000 iteration: [ -0.42868158   6.88487083 -15.95149255]\n",
      "Weight after 35000 iteration: [ -0.41907154   7.06406544 -17.19808831]\n",
      "Weight after 40000 iteration: [ -0.41127866   7.20937639 -18.20896706]\n",
      "Weight after 45000 iteration: [ -0.40495931   7.3272107  -19.02870019]\n",
      "Weight after 50000 iteration: [ -0.39983489   7.42276389 -19.69343116]\n",
      "Weight after 55000 iteration: [ -0.39567943   7.50024907 -20.2324691 ]\n",
      "Weight after 60000 iteration: [ -0.39230972   7.56308268 -20.66958113]\n",
      "Weight after 65000 iteration: [ -0.38957719   7.61403518 -21.02404027]\n",
      "Weight after 70000 iteration: [ -0.38736135   7.65535314 -21.31147524]\n",
      "Weight after 75000 iteration: [ -0.38556449   7.68885835 -21.54455955]\n",
      "Weight after 80000 iteration: [ -0.38410741   7.7160281  -21.73357027]\n",
      "Weight after 85000 iteration: [ -0.38292584   7.73806037 -21.88684123]\n",
      "Weight after 90000 iteration: [ -0.38196769   7.75592659 -22.0111304 ]\n",
      "Weight after 95000 iteration: [ -0.38119071   7.7704145  -22.11191791]\n",
      "Weight after 100000 iteration: [ -0.38056066   7.78216292 -22.19364765]\n",
      "Weight after 105000 iteration: [ -0.38004974   7.79168985 -22.25992324]\n",
      "Weight after 110000 iteration: [ -0.37963543   7.79941534 -22.31366687]\n",
      "Weight after 115000 iteration: [ -0.37929946   7.80568004 -22.35724819]\n",
      "Weight after 120000 iteration: [ -0.37902702   7.81076015 -22.39258878]\n",
      "Weight after 125000 iteration: [ -0.37880609   7.81487966 -22.42124687]\n",
      "Weight after 130000 iteration: [ -0.37862694   7.81822023 -22.44448605]\n",
      "Weight after 135000 iteration: [ -0.37848166   7.82092913 -22.46333096]\n",
      "Weight after 140000 iteration: [ -0.37836386   7.82312581 -22.47861251]\n",
      "Weight after 145000 iteration: [ -0.37826833   7.82490713 -22.4910045 ]\n",
      "Weight after 150000 iteration: [ -0.37819086   7.82635161 -22.5010533 ]\n",
      "Weight after 155000 iteration: [ -0.37812804   7.82752296 -22.50920199]\n",
      "Weight after 160000 iteration: [ -0.3780771    7.82847283 -22.51580986]\n",
      "Weight after 165000 iteration: [ -0.37803579   7.82924308 -22.52116825]\n",
      "Weight after 170000 iteration: [ -0.3780023    7.82986769 -22.52551343]\n",
      "Weight after 175000 iteration: [ -0.37797513   7.83037419 -22.52903699]\n",
      "Weight after 180000 iteration: [ -0.37795311   7.83078492 -22.53189429]\n",
      "Weight after 185000 iteration: [ -0.37793524   7.83111798 -22.5342113 ]\n",
      "Weight after 190000 iteration: [ -0.37792076   7.83138807 -22.53609019]\n",
      "Weight after 195000 iteration: [ -0.37790901   7.83160708 -22.53761381]\n",
      "Weight after 200000 iteration: [ -0.37789949   7.83178468 -22.53884932]\n",
      "Weight after 205000 iteration: [ -0.37789177   7.8319287  -22.53985122]\n",
      "Weight after 210000 iteration: [ -0.3778855    7.83204549 -22.54066366]\n",
      "Weight after 215000 iteration: [ -0.37788042   7.83214019 -22.54132249]\n",
      "Weight after 220000 iteration: [ -0.37787631   7.83221699 -22.54185673]\n",
      "Weight after 225000 iteration: [ -0.37787297   7.83227927 -22.54228996]\n",
      "Weight after 230000 iteration: [ -0.37787026   7.83232977 -22.54264127]\n",
      "Weight after 235000 iteration: [ -0.37786806   7.83237072 -22.54292615]\n",
      "Weight after 240000 iteration: [ -0.37786628   7.83240392 -22.54315716]\n",
      "Weight after 245000 iteration: [ -0.37786484   7.83243085 -22.54334449]\n",
      "Weight after 250000 iteration: [ -0.37786367   7.83245269 -22.5434964 ]\n",
      "Weight after 255000 iteration: [ -0.37786272   7.8324704  -22.54361959]\n",
      "Weight after 260000 iteration: [ -0.37786195   7.83248475 -22.54371948]\n",
      "Weight after 265000 iteration: [ -0.37786132   7.8324964  -22.54380048]\n",
      "Weight after 270000 iteration: [ -0.37786081   7.83250584 -22.54386617]\n",
      "Weight after 275000 iteration: [ -0.3778604    7.8325135  -22.54391944]\n",
      "Weight after 280000 iteration: [ -0.37786007   7.83251971 -22.54396263]\n",
      "Weight after 285000 iteration: [ -0.3778598    7.83252474 -22.54399766]\n",
      "Weight after 290000 iteration: [ -0.37785958   7.83252882 -22.54402606]\n",
      "Weight after 295000 iteration: [ -0.3778594    7.83253214 -22.54404909]\n"
     ]
    }
   ],
   "source": [
    "opt_w = np_solve_via_gradient_descent(train_X_new, train_y, niter=300000)"
   ]
  },
  {
   "cell_type": "code",
   "execution_count": null,
   "metadata": {},
   "outputs": [
    {
     "name": "stdout",
     "output_type": "stream",
     "text": [
      "Training cost: 18.50204317057405\n"
     ]
    }
   ],
   "source": [
    "print(\"Training cost:\", np_cost_vectorized(opt_w[:2], opt_w[2], train_X, train_y)) # 18.502043170574055"
   ]
  },
  {
   "cell_type": "code",
   "execution_count": null,
   "metadata": {},
   "outputs": [
    {
     "name": "stdout",
     "output_type": "stream",
     "text": [
      "Testing cost: 24.05124041761955\n"
     ]
    }
   ],
   "source": [
    "print(\"Testing cost:\", np_cost_vectorized(opt_w[:2], opt_w[2], test_X, test_y)) # 24.051240417619557"
   ]
  },
  {
   "cell_type": "code",
   "execution_count": null,
   "metadata": {},
   "outputs": [],
   "source": []
  }
 ],
 "metadata": {
  "kernelspec": {
   "display_name": "Python 3.9.8 64-bit",
   "language": "python",
   "name": "python3"
  },
  "language_info": {
   "codemirror_mode": {
    "name": "ipython",
    "version": 3
   },
   "file_extension": ".py",
   "mimetype": "text/x-python",
   "name": "python",
   "nbconvert_exporter": "python",
   "pygments_lexer": "ipython3",
   "version": "3.9.8"
  },
  "vscode": {
   "interpreter": {
    "hash": "0d591c6e422414675974e227c13f5382000c440fedd3c5006ef2be5d887f0ba7"
   }
  }
 },
 "nbformat": 4,
 "nbformat_minor": 4
}
