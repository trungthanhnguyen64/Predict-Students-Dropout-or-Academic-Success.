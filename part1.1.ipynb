{
 "cells": [
  {
   "cell_type": "markdown",
   "metadata": {},
   "source": [
    "# I. Overview\n",
    "In this problem, we will together predict house prices in a city of Boston in the US with a sample size of 506 values ​​with 13 attributes as follows:\n",
    "```\n",
    "- CRIM per capita crime rate by town\n",
    "- ZN proportion of residential land zoned for lots over 25,000 sq.ft.\n",
    "- INDUS proportion of non-retail business acres per town\n",
    "- CHAS Charles River dummy variable (= 1 if tract bounds river; 0 otherwise)\n",
    "- NOX nitric oxides concentration (parts per 10 million)\n",
    "- RM average number of rooms per dwelling\n",
    "- AGE proportion of owner-occupied units built prior to 1940\n",
    "- DIS weighted distances to five Boston employment centres\n",
    "- RAD index of accessibility to radial highways\n",
    "- TAX full-value property-tax rate per $10,000\n",
    "- PTRATIO pupil-teacher ratio by town\n",
    "- B 1000(Bk - 0.63)ˆ2 where Bk is the proportion of blacks by town\n",
    "- LSTAT % lower status of the population\n",
    "- MEDV Median value of owner-occupied homes in $1000's\n",
    "```\n",
    "With this information, together, we will proceed to build a hypothetical linear regression model based on `numpy` and `tensorflow` to derive house prices based on up to 10 properties."
   ]
  },
  {
   "cell_type": "markdown",
   "metadata": {},
   "source": [
    "# II. Data Collection"
   ]
  },
  {
   "cell_type": "code",
   "execution_count": 2,
   "metadata": {},
   "outputs": [],
   "source": [
    "# Import library\n",
    "import numpy as np\n",
    "import pandas as pd\n",
    "import matplotlib.pyplot as plt\n",
    "%matplotlib inline"
   ]
  },
  {
   "cell_type": "code",
   "execution_count": 3,
   "metadata": {},
   "outputs": [
    {
     "name": "stderr",
     "output_type": "stream",
     "text": [
      "c:\\Users\\Admin\\AppData\\Local\\Programs\\Python\\Python39\\lib\\site-packages\\sklearn\\utils\\deprecation.py:87: FutureWarning: Function load_boston is deprecated; `load_boston` is deprecated in 1.0 and will be removed in 1.2.\n",
      "\n",
      "    The Boston housing prices dataset has an ethical problem. You can refer to\n",
      "    the documentation of this function for further details.\n",
      "\n",
      "    The scikit-learn maintainers therefore strongly discourage the use of this\n",
      "    dataset unless the purpose of the code is to study and educate about\n",
      "    ethical issues in data science and machine learning.\n",
      "\n",
      "    In this special case, you can fetch the dataset from the original\n",
      "    source::\n",
      "\n",
      "        import pandas as pd\n",
      "        import numpy as np\n",
      "\n",
      "        data_url = \"http://lib.stat.cmu.edu/datasets/boston\"\n",
      "        raw_df = pd.read_csv(data_url, sep=\"\\s+\", skiprows=22, header=None)\n",
      "        data = np.hstack([raw_df.values[::2, :], raw_df.values[1::2, :2]])\n",
      "        target = raw_df.values[1::2, 2]\n",
      "\n",
      "    Alternative datasets include the California housing dataset (i.e.\n",
      "    :func:`~sklearn.datasets.fetch_california_housing`) and the Ames housing\n",
      "    dataset. You can load the datasets as follows::\n",
      "\n",
      "        from sklearn.datasets import fetch_california_housing\n",
      "        housing = fetch_california_housing()\n",
      "\n",
      "    for the California housing dataset and::\n",
      "\n",
      "        from sklearn.datasets import fetch_openml\n",
      "        housing = fetch_openml(name=\"house_prices\", as_frame=True)\n",
      "\n",
      "    for the Ames housing dataset.\n",
      "  warnings.warn(msg, category=FutureWarning)\n"
     ]
    }
   ],
   "source": [
    "from sklearn.datasets import load_boston\n",
    "\n",
    "x = load_boston().data\n",
    "y = load_boston().target\n",
    "\n",
    "# Split it into train and test subsets.\n",
    "from sklearn.model_selection import train_test_split\n",
    "train_X, test_X, train_y, test_y = train_test_split(x, y, test_size = 0.2, random_state = 23)"
   ]
  },
  {
   "cell_type": "markdown",
   "metadata": {},
   "source": [
    "For simplicity, the input data consists of only two characteristics:\n",
    "```\n",
    "    - INDUS proportion of non-retail business acres per town\n",
    "    - RM average number of rooms per dwelling\n",
    "```"
   ]
  },
  {
   "cell_type": "code",
   "execution_count": 4,
   "metadata": {},
   "outputs": [
    {
     "data": {
      "text/plain": [
       "array([24. , 21.6, 34.7, 33.4, 36.2, 28.7, 22.9, 27.1, 16.5, 18.9, 15. ,\n",
       "       18.9, 21.7, 20.4, 18.2, 19.9, 23.1, 17.5, 20.2, 18.2, 13.6, 19.6,\n",
       "       15.2, 14.5, 15.6, 13.9, 16.6, 14.8, 18.4, 21. , 12.7, 14.5, 13.2,\n",
       "       13.1, 13.5, 18.9, 20. , 21. , 24.7, 30.8, 34.9, 26.6, 25.3, 24.7,\n",
       "       21.2, 19.3, 20. , 16.6, 14.4, 19.4, 19.7, 20.5, 25. , 23.4, 18.9,\n",
       "       35.4, 24.7, 31.6, 23.3, 19.6, 18.7, 16. , 22.2, 25. , 33. , 23.5,\n",
       "       19.4, 22. , 17.4, 20.9, 24.2, 21.7, 22.8, 23.4, 24.1, 21.4, 20. ,\n",
       "       20.8, 21.2, 20.3, 28. , 23.9, 24.8, 22.9, 23.9, 26.6, 22.5, 22.2,\n",
       "       23.6, 28.7, 22.6, 22. , 22.9, 25. , 20.6, 28.4, 21.4, 38.7, 43.8,\n",
       "       33.2, 27.5, 26.5, 18.6, 19.3, 20.1, 19.5, 19.5, 20.4, 19.8, 19.4,\n",
       "       21.7, 22.8, 18.8, 18.7, 18.5, 18.3, 21.2, 19.2, 20.4, 19.3, 22. ,\n",
       "       20.3, 20.5, 17.3, 18.8, 21.4, 15.7, 16.2, 18. , 14.3, 19.2, 19.6,\n",
       "       23. , 18.4, 15.6, 18.1, 17.4, 17.1, 13.3, 17.8, 14. , 14.4, 13.4,\n",
       "       15.6, 11.8, 13.8, 15.6, 14.6, 17.8, 15.4, 21.5, 19.6, 15.3, 19.4,\n",
       "       17. , 15.6, 13.1, 41.3, 24.3, 23.3, 27. , 50. , 50. , 50. , 22.7,\n",
       "       25. , 50. , 23.8, 23.8, 22.3, 17.4, 19.1, 23.1, 23.6, 22.6, 29.4,\n",
       "       23.2, 24.6, 29.9, 37.2, 39.8, 36.2, 37.9, 32.5, 26.4, 29.6, 50. ,\n",
       "       32. , 29.8, 34.9, 37. , 30.5, 36.4, 31.1, 29.1, 50. , 33.3, 30.3,\n",
       "       34.6, 34.9, 32.9, 24.1, 42.3, 48.5, 50. , 22.6, 24.4, 22.5, 24.4,\n",
       "       20. , 21.7, 19.3, 22.4, 28.1, 23.7, 25. , 23.3, 28.7, 21.5, 23. ,\n",
       "       26.7, 21.7, 27.5, 30.1, 44.8, 50. , 37.6, 31.6, 46.7, 31.5, 24.3,\n",
       "       31.7, 41.7, 48.3, 29. , 24. , 25.1, 31.5, 23.7, 23.3, 22. , 20.1,\n",
       "       22.2, 23.7, 17.6, 18.5, 24.3, 20.5, 24.5, 26.2, 24.4, 24.8, 29.6,\n",
       "       42.8, 21.9, 20.9, 44. , 50. , 36. , 30.1, 33.8, 43.1, 48.8, 31. ,\n",
       "       36.5, 22.8, 30.7, 50. , 43.5, 20.7, 21.1, 25.2, 24.4, 35.2, 32.4,\n",
       "       32. , 33.2, 33.1, 29.1, 35.1, 45.4, 35.4, 46. , 50. , 32.2, 22. ,\n",
       "       20.1, 23.2, 22.3, 24.8, 28.5, 37.3, 27.9, 23.9, 21.7, 28.6, 27.1,\n",
       "       20.3, 22.5, 29. , 24.8, 22. , 26.4, 33.1, 36.1, 28.4, 33.4, 28.2,\n",
       "       22.8, 20.3, 16.1, 22.1, 19.4, 21.6, 23.8, 16.2, 17.8, 19.8, 23.1,\n",
       "       21. , 23.8, 23.1, 20.4, 18.5, 25. , 24.6, 23. , 22.2, 19.3, 22.6,\n",
       "       19.8, 17.1, 19.4, 22.2, 20.7, 21.1, 19.5, 18.5, 20.6, 19. , 18.7,\n",
       "       32.7, 16.5, 23.9, 31.2, 17.5, 17.2, 23.1, 24.5, 26.6, 22.9, 24.1,\n",
       "       18.6, 30.1, 18.2, 20.6, 17.8, 21.7, 22.7, 22.6, 25. , 19.9, 20.8,\n",
       "       16.8, 21.9, 27.5, 21.9, 23.1, 50. , 50. , 50. , 50. , 50. , 13.8,\n",
       "       13.8, 15. , 13.9, 13.3, 13.1, 10.2, 10.4, 10.9, 11.3, 12.3,  8.8,\n",
       "        7.2, 10.5,  7.4, 10.2, 11.5, 15.1, 23.2,  9.7, 13.8, 12.7, 13.1,\n",
       "       12.5,  8.5,  5. ,  6.3,  5.6,  7.2, 12.1,  8.3,  8.5,  5. , 11.9,\n",
       "       27.9, 17.2, 27.5, 15. , 17.2, 17.9, 16.3,  7. ,  7.2,  7.5, 10.4,\n",
       "        8.8,  8.4, 16.7, 14.2, 20.8, 13.4, 11.7,  8.3, 10.2, 10.9, 11. ,\n",
       "        9.5, 14.5, 14.1, 16.1, 14.3, 11.7, 13.4,  9.6,  8.7,  8.4, 12.8,\n",
       "       10.5, 17.1, 18.4, 15.4, 10.8, 11.8, 14.9, 12.6, 14.1, 13. , 13.4,\n",
       "       15.2, 16.1, 17.8, 14.9, 14.1, 12.7, 13.5, 14.9, 20. , 16.4, 17.7,\n",
       "       19.5, 20.2, 21.4, 19.9, 19. , 19.1, 19.1, 20.1, 19.9, 19.6, 23.2,\n",
       "       29.8, 13.8, 13.3, 16.7, 12. , 14.6, 21.4, 23. , 23.7, 25. , 21.8,\n",
       "       20.6, 21.2, 19.1, 20.6, 15.2,  7. ,  8.1, 13.6, 20.1, 21.8, 24.5,\n",
       "       23.1, 19.7, 18.3, 21.2, 17.5, 16.8, 22.4, 20.6, 23.9, 22. , 11.9])"
      ]
     },
     "execution_count": 4,
     "metadata": {},
     "output_type": "execute_result"
    }
   ],
   "source": [
    "x = load_boston().data[:,[2,5]]\n",
    "y = load_boston().target\n",
    "\n",
    "# Split it into train and test subsets.\n",
    "from sklearn.model_selection import train_test_split\n",
    "\n",
    "train_X, test_X, train_y, test_y = train_test_split(x, y, test_size=0.2, random_state=87)\n",
    "y"
   ]
  },
  {
   "cell_type": "markdown",
   "metadata": {},
   "source": [
    "To understand more about the data set, we can do some more illustrations as follows:\n"
   ]
  },
  {
   "cell_type": "code",
   "execution_count": 5,
   "metadata": {},
   "outputs": [
    {
     "data": {
      "image/png": "[encoded data removed]",
      "text/plain": [
       "<Figure size 1152x576 with 2 Axes>"
      ]
     },
     "metadata": {
      "needs_background": "light"
     },
     "output_type": "display_data"
    }
   ],
   "source": [
    "fig = plt.figure(figsize = (16, 8))\n",
    "fig1 = fig.add_subplot(121)\n",
    "fig2 = fig.add_subplot(122)\n",
    "\n",
    "fig1.scatter(train_X[:, 0], train_y)\n",
    "fig1.set_title(\"Industrialness vs Med House Price\")\n",
    "fig1.set_xlabel(\"Industrialness\")\n",
    "fig1.set_ylabel(\"Med House Price\")\n",
    "\n",
    "fig2.scatter(train_X[:,1], train_y)\n",
    "fig2.set_title(\"Avg Num Rooms vs Med House Price\")\n",
    "fig2.set_xlabel(\"Avg Num Rooms\")\n",
    "#fig2.set_ylabel(\"Med House Price\")\n",
    "plt.savefig(\"INDUSwRM\")"
   ]
  },
  {
   "cell_type": "markdown",
   "metadata": {},
   "source": [
    "Currently, our vector has the following form:"
   ]
  },
  {
   "cell_type": "code",
   "execution_count": 6,
   "metadata": {},
   "outputs": [
    {
     "name": "stdout",
     "output_type": "stream",
     "text": [
      "Size of data X train matrix (404, 2)\n",
      "Size of data Y train array (404,)\n",
      "Size of data X test matrix (102, 2)\n",
      "Size of data Y test array (102,)\n"
     ]
    }
   ],
   "source": [
    "print(\"Size of data X train matrix %s\"  % str(train_X.shape))\n",
    "print(\"Size of data Y train array %s\"  % str(train_y.shape))\n",
    "print(\"Size of data X test matrix %s\"  % str(test_X.shape))\n",
    "print(\"Size of data Y test array %s\"  % str(test_y.shape))"
   ]
  },
  {
   "cell_type": "code",
   "execution_count": 7,
   "metadata": {},
   "outputs": [],
   "source": [
    "one_column_train = np.ones((train_X.shape[0], 1))\n",
    "train_X_new = np.append(one_column_train, train_X, axis = 1) # Add bias\n",
    "\n",
    "one_column_test = np.ones((test_X.shape[0], 1))\n",
    "test_X_new = np.append(one_column_test, test_X, axis = 1)"
   ]
  },
  {
   "cell_type": "code",
   "execution_count": 8,
   "metadata": {},
   "outputs": [
    {
     "name": "stdout",
     "output_type": "stream",
     "text": [
      "Size of data X train matrix (404, 3)\n",
      "Size of data Y train array (404,)\n",
      "Size of data X test matrix (102, 3)\n",
      "Size of data Y test array (102,)\n"
     ]
    }
   ],
   "source": [
    "print(\"Size of data X train matrix %s\"  % str(train_X_new.shape))\n",
    "print(\"Size of data Y train array %s\"  % str(train_y.shape))\n",
    "print(\"Size of data X test matrix %s\"  % str(test_X_new.shape))\n",
    "print(\"Size of data Y test array %s\"  % str(test_y.shape))"
   ]
  },
  {
   "cell_type": "markdown",
   "metadata": {},
   "source": [
    "# III. Write a cost function\n",
    "$$J(w) = \\frac{1}{m} \\sum_{i=1}^m loss(\\hat{y}^{(i)}, y^{(i)})= \\frac{1}{2m} \\sum_{i=1}^m (\\hat{y}^{(i)}-y^{(i)})^2 $$\n",
    "Expanding, we have the result:\n",
    "$$J(w) = \\frac{1}{2m} \\sum_{i=1}^m (w_1 x_1^{(i)} + w_2 x_2^{(i)} + b - y^{(i)})^2 $$"
   ]
  },
  {
   "cell_type": "markdown",
   "metadata": {},
   "source": [
    "### III.1 Write a program"
   ]
  },
  {
   "cell_type": "code",
   "execution_count": 9,
   "metadata": {},
   "outputs": [],
   "source": [
    "def np_cost(w, X, y):\n",
    "    '''\n",
    "    Evaluate the cost function in a non-vectorized manner for \n",
    "    inputs `X` and targets `y`, at weights `w` and `b`.\n",
    "    \n",
    "    X: 2D array dataset that has (m, n) dimension. \n",
    "    y: list of targets that has (n, ) dimension.\n",
    "    w: list of weights that has (n, ) dimension\n",
    "    b: a scalar bias.\n",
    "    \n",
    "    Return a scalar cost value of `w`, `b`.\n",
    "    '''\n",
    "    \n",
    "    cost = 0\n",
    "    m = X.shape[0]\n",
    "    for i in range(m):\n",
    "        \n",
    "        y_hat = w[0]*X[i,0] + w[1]*X[i, 1] + w[2]*X[i, 2]  # hypothesis\n",
    "        cost += (y_hat - y[i])**2 # sum cost of each data point.\n",
    "        \n",
    "    return cost/(2*m)"
   ]
  },
  {
   "cell_type": "markdown",
   "metadata": {},
   "source": [
    "### III.2 Try this"
   ]
  },
  {
   "cell_type": "code",
   "execution_count": 10,
   "metadata": {},
   "outputs": [
    {
     "data": {
      "text/plain": [
       "2232.6783646967824"
      ]
     },
     "execution_count": 10,
     "metadata": {},
     "output_type": "execute_result"
    }
   ],
   "source": [
    "np_cost([20, 3, 5], train_X_new, train_y) # 2198.1440481435648"
   ]
  },
  {
   "cell_type": "code",
   "execution_count": 11,
   "metadata": {},
   "outputs": [
    {
     "data": {
      "text/plain": [
       "1186.0375231126243"
      ]
     },
     "execution_count": 11,
     "metadata": {},
     "output_type": "execute_result"
    }
   ],
   "source": [
    "np_cost([0, 3, 5], train_X_new, train_y) # 1163.1688006188117"
   ]
  },
  {
   "cell_type": "markdown",
   "metadata": {},
   "source": [
    "# IV. Vectorize the cost function\n",
    "Alternatively, we can also rewrite the above formula as follows:\n",
    "$$J(w) = \\frac{1}{2m} \\| X w + b  - y \\|^2$$ "
   ]
  },
  {
   "cell_type": "markdown",
   "metadata": {},
   "source": [
    "### IV.1 Write a program"
   ]
  },
  {
   "cell_type": "code",
   "execution_count": 12,
   "metadata": {},
   "outputs": [],
   "source": [
    "def np_cost_vectorized(w, X, y):\n",
    "    '''\n",
    "    Evaluate the cost function in a vectorized manner for \n",
    "    inputs `X` and targets `t`, at weights `w` and `b`.\n",
    "    \n",
    "    X: dataset matrix has (m, n) dimension. \n",
    "    y: targets vector has (n, ) dimension.\n",
    "    w: weights vector has (n, ) dimension\n",
    "    b: a scalar bias.\n",
    "    \n",
    "    Return a scalar cost value of `w`, `b`.\n",
    "    '''\n",
    "    \n",
    "    m = X.shape[0] # number of samples in dataset\n",
    "    w = np.array(w) # convert to numpy array\n",
    "    y_hat = np.dot(X, w) # hypothesis\n",
    "    \n",
    "    return np.sum((y_hat - y)**2)/(2*m)"
   ]
  },
  {
   "cell_type": "markdown",
   "metadata": {},
   "source": [
    "### IV.2 Try this"
   ]
  },
  {
   "cell_type": "code",
   "execution_count": 13,
   "metadata": {},
   "outputs": [
    {
     "data": {
      "text/plain": [
       "2232.6783646967824"
      ]
     },
     "execution_count": 13,
     "metadata": {},
     "output_type": "execute_result"
    }
   ],
   "source": [
    "np_cost_vectorized([20, 3, 5], train_X_new, train_y) # 2198.1440481435643"
   ]
  },
  {
   "cell_type": "code",
   "execution_count": 14,
   "metadata": {},
   "outputs": [
    {
     "data": {
      "text/plain": [
       "1186.0375231126238"
      ]
     },
     "execution_count": 14,
     "metadata": {},
     "output_type": "execute_result"
    }
   ],
   "source": [
    "np_cost_vectorized([0, 3, 5], train_X_new, train_y) # 1163.168800618812"
   ]
  },
  {
   "cell_type": "markdown",
   "metadata": {},
   "source": [
    "# IV. Calculate gradient vector of w\n",
    "With $i = 1...m $ and $j = 1...n$:\n",
    "\n",
    "$$ \\frac{\\partial J}{\\partial w_j} = \\frac{1}{m}\\sum_{i=1}^m x_j^{(i)}(\\hat{y}^{(i)}-y^{(i)}) $$\n",
    "\n",
    "\n",
    "\n",
    "### IV.1 Write a program with `for`"
   ]
  },
  {
   "cell_type": "code",
   "execution_count": 15,
   "metadata": {},
   "outputs": [],
   "source": [
    "def np_grad_fn(w, X, y):\n",
    "    '''\n",
    "    Given `w` - a current \"Guess\" of what our weights should be\n",
    "          `X` - matrix of shape (m, n + 1) of input features\n",
    "          `y` - target y values\n",
    "    Return gradient of each weight evaluated at the current value\n",
    "    '''\n",
    "    \n",
    "    #TODO: Complete the below followed the above expressions\n",
    "    grad_w = np.zeros(np.array(w).shape)\n",
    "    m = X.shape[0]\n",
    "    y_hat = np.dot(X, w)\n",
    "    for j in range(grad_w.shape[0]):\n",
    "        for i in range(m):\n",
    "            grad_w[j] += (y_hat[i] - y[i])*X[i, j]/m\n",
    "    return grad_w"
   ]
  },
  {
   "cell_type": "markdown",
   "metadata": {},
   "source": [
    "### IV.2 Try this"
   ]
  },
  {
   "cell_type": "code",
   "execution_count": 16,
   "metadata": {},
   "outputs": [
    {
     "data": {
      "text/plain": [
       "array([ -17.94781361, -161.77719027, -116.62229795])"
      ]
     },
     "execution_count": 16,
     "metadata": {},
     "output_type": "execute_result"
    }
   ],
   "source": [
    "w = [0.1, 0.2, 0.3]\n",
    "\n",
    "np_grad_fn(w, train_X_new, train_y)\n",
    "\n",
    "# array([ -17.94781361, -161.77719027, -116.62229795])"
   ]
  },
  {
   "cell_type": "markdown",
   "metadata": {},
   "source": [
    "# IV. Write a program in vectorized form\n",
    "$$\\nabla J(w) = \\frac{1}{m} X^T \\left(Xw - y \\right)$$ "
   ]
  },
  {
   "cell_type": "code",
   "execution_count": 17,
   "metadata": {},
   "outputs": [],
   "source": [
    "def np_grad_fn_vectorized(w, X, y):\n",
    "    '''\n",
    "    Given `w` - a current \"Guess\" of what our weights should be\n",
    "          `X` - matrix of shape (m, n + 1) of input features\n",
    "          `y` - target y values\n",
    "    Return gradient of each weight evaluated at the current value\n",
    "    '''\n",
    "    \n",
    "    #TODO: Complete the below followed the above expressions\n",
    "    m, n = X.shape\n",
    "    y_hat = np.dot(X, w)\n",
    "    grad_w = np.dot(X.T, y_hat - y)/m\n",
    "    \n",
    "    return grad_w"
   ]
  },
  {
   "cell_type": "code",
   "execution_count": 18,
   "metadata": {},
   "outputs": [
    {
     "data": {
      "text/plain": [
       "array([ -17.94781361, -161.77719027, -116.62229795])"
      ]
     },
     "execution_count": 18,
     "metadata": {},
     "output_type": "execute_result"
    }
   ],
   "source": [
    "w = [0.1, 0.2, 0.3]\n",
    "np_grad_fn_vectorized(w, train_X_new, train_y)\n",
    "\n",
    "# array([ -17.94781361, -161.77719027, -116.62229795])"
   ]
  },
  {
   "cell_type": "markdown",
   "metadata": {},
   "source": [
    "# V. Calculate based on Gradient Descent\n",
    "Approximately $w$:\n",
    "$$ w_j = w_j - \\alpha * \\frac{\\partial J}{\\partial w_j}$$\n",
    "### V.1. Programming\n"
   ]
  },
  {
   "cell_type": "code",
   "execution_count": 19,
   "metadata": {},
   "outputs": [],
   "source": [
    "def np_solve_via_gradient_descent(X, y, print_every=5000,\n",
    "                                  niter=100000, alpha=0.005):\n",
    "    '''\n",
    "    Given `X` - matrix of shape (m, n+1) of input features\n",
    "          `y` - target y values\n",
    "    Solves for linear regression weights.\n",
    "    Return weights after `niter` iterations.\n",
    "    '''\n",
    "    m, n = X.shape\n",
    "    # initialize all the weights to zeros\n",
    "    w = np.zeros((n,))\n",
    "    for k in range(niter):\n",
    "        \n",
    "        dw = np_grad_fn_vectorized(w, X, y) \n",
    "        w = w - alpha*dw\n",
    "        \n",
    "        if k % print_every == 0:\n",
    "            print('Weight after %d iteration: %s' % (k, str(w)))\n",
    "    return w"
   ]
  },
  {
   "cell_type": "code",
   "execution_count": 20,
   "metadata": {},
   "outputs": [
    {
     "name": "stdout",
     "output_type": "stream",
     "text": [
      "Weight after 0 iteration: [0.11068564 1.08378568 0.71326905]\n",
      "Weight after 5000 iteration: [-3.82551279 -0.47289339  5.0091591 ]\n",
      "Weight after 10000 iteration: [-7.41968638 -0.44671745  5.53222819]\n",
      "Weight after 15000 iteration: [-10.31907467  -0.42560155   5.95418343]\n",
      "Weight after 20000 iteration: [-12.65798576  -0.40856754   6.29457102]\n",
      "Weight after 25000 iteration: [-14.54476481  -0.39482635   6.5691587 ]\n",
      "Weight after 30000 iteration: [-16.0668129   -0.38374145   6.79066618]\n",
      "Weight after 35000 iteration: [-17.29463574  -0.37479936   6.96935431]\n",
      "Weight after 40000 iteration: [-18.28510965  -0.36758586   7.11350046]\n",
      "Weight after 45000 iteration: [-19.08411625  -0.36176679   7.22978189]\n",
      "Weight after 50000 iteration: [-19.72866787  -0.3570726    7.3235851 ]\n",
      "Weight after 55000 iteration: [-20.248622    -0.35328583   7.39925533]\n",
      "Weight after 60000 iteration: [-20.66806444  -0.35023108   7.46029784]\n",
      "Weight after 65000 iteration: [-21.00642497  -0.34776684   7.5095403 ]\n",
      "Weight after 70000 iteration: [-21.27937744  -0.34577896   7.54926375]\n",
      "Weight after 75000 iteration: [-21.4995658   -0.34417536   7.58130832]\n",
      "Weight after 80000 iteration: [-21.67718982  -0.34288174   7.60715839]\n",
      "Weight after 85000 iteration: [-21.82047755  -0.34183819   7.62801141]\n",
      "Weight after 90000 iteration: [-21.93606651  -0.34099637   7.64483336]\n",
      "Weight after 95000 iteration: [-22.02931111  -0.34031728   7.65840348]\n",
      "Weight after 100000 iteration: [-22.10453071  -0.33976947   7.66935038]\n",
      "Weight after 105000 iteration: [-22.1652097   -0.33932755   7.67818114]\n",
      "Weight after 110000 iteration: [-22.21415891  -0.33897106   7.68530484]\n",
      "Weight after 115000 iteration: [-22.25364581  -0.33868348   7.69105147]\n",
      "Weight after 120000 iteration: [-22.28549954  -0.33845149   7.69568722]\n",
      "Weight after 125000 iteration: [-22.31119567  -0.33826435   7.69942685]\n",
      "Weight after 130000 iteration: [-22.33192451  -0.33811339   7.70244357]\n",
      "Weight after 135000 iteration: [-22.34864629  -0.3379916    7.70487713]\n",
      "Weight after 140000 iteration: [-22.36213559  -0.33789336   7.70684026]\n",
      "Weight after 145000 iteration: [-22.3730173   -0.33781411   7.7084239 ]\n",
      "Weight after 150000 iteration: [-22.38179548  -0.33775018   7.70970141]\n",
      "Weight after 155000 iteration: [-22.38887676  -0.33769861   7.71073197]\n",
      "Weight after 160000 iteration: [-22.39458916  -0.33765701   7.71156331]\n",
      "Weight after 165000 iteration: [-22.39919731  -0.33762345   7.71223394]\n",
      "Weight after 170000 iteration: [-22.40291466  -0.33759637   7.71277494]\n",
      "Weight after 175000 iteration: [-22.40591341  -0.33757453   7.71321136]\n",
      "Weight after 180000 iteration: [-22.40833248  -0.33755692   7.71356341]\n",
      "Weight after 185000 iteration: [-22.41028393  -0.3375427    7.71384741]\n",
      "Weight after 190000 iteration: [-22.41185814  -0.33753124   7.71407651]\n",
      "Weight after 195000 iteration: [-22.41312804  -0.33752199   7.71426132]\n",
      "Weight after 200000 iteration: [-22.41415246  -0.33751453   7.7144104 ]\n",
      "Weight after 205000 iteration: [-22.41497885  -0.33750851   7.71453067]\n",
      "Weight after 210000 iteration: [-22.41564549  -0.33750366   7.71462769]\n",
      "Weight after 215000 iteration: [-22.41618326  -0.33749974   7.71470595]\n",
      "Weight after 220000 iteration: [-22.41661708  -0.33749658   7.71476909]\n",
      "Weight after 225000 iteration: [-22.41696704  -0.33749403   7.71482002]\n",
      "Weight after 230000 iteration: [-22.41724934  -0.33749198   7.7148611 ]\n",
      "Weight after 235000 iteration: [-22.41747708  -0.33749032   7.71489425]\n",
      "Weight after 240000 iteration: [-22.41766079  -0.33748898   7.71492098]\n",
      "Weight after 245000 iteration: [-22.41780899  -0.3374879    7.71494255]\n",
      "Weight after 250000 iteration: [-22.41792854  -0.33748703   7.71495995]\n",
      "Weight after 255000 iteration: [-22.41802498  -0.33748633   7.71497398]\n",
      "Weight after 260000 iteration: [-22.41810278  -0.33748576   7.7149853 ]\n",
      "Weight after 265000 iteration: [-22.41816554  -0.3374853    7.71499444]\n",
      "Weight after 270000 iteration: [-22.41821616  -0.33748493   7.71500181]\n",
      "Weight after 275000 iteration: [-22.418257    -0.33748464   7.71500775]\n",
      "Weight after 280000 iteration: [-22.41828995  -0.3374844    7.71501254]\n",
      "Weight after 285000 iteration: [-22.41831652  -0.3374842    7.71501641]\n",
      "Weight after 290000 iteration: [-22.41833796  -0.33748405   7.71501953]\n",
      "Weight after 295000 iteration: [-22.41835526  -0.33748392   7.71502205]\n",
      "Weight after 300000 iteration: [-22.41836921  -0.33748382   7.71502408]\n",
      "Weight after 305000 iteration: [-22.41838047  -0.33748374   7.71502572]\n",
      "Weight after 310000 iteration: [-22.41838954  -0.33748367   7.71502704]\n",
      "Weight after 315000 iteration: [-22.41839687  -0.33748362   7.7150281 ]\n",
      "Weight after 320000 iteration: [-22.41840278  -0.33748358   7.71502896]\n",
      "Weight after 325000 iteration: [-22.41840754  -0.33748354   7.71502966]\n",
      "Weight after 330000 iteration: [-22.41841139  -0.33748351   7.71503022]\n",
      "Weight after 335000 iteration: [-22.41841449  -0.33748349   7.71503067]\n",
      "Weight after 340000 iteration: [-22.41841699  -0.33748347   7.71503103]\n",
      "Weight after 345000 iteration: [-22.41841901  -0.33748346   7.71503133]\n",
      "Weight after 350000 iteration: [-22.41842064  -0.33748345   7.71503156]\n",
      "Weight after 355000 iteration: [-22.41842195  -0.33748344   7.71503175]\n",
      "Weight after 360000 iteration: [-22.41842301  -0.33748343   7.71503191]\n",
      "Weight after 365000 iteration: [-22.41842386  -0.33748342   7.71503203]\n",
      "Weight after 370000 iteration: [-22.41842455  -0.33748342   7.71503213]\n",
      "Weight after 375000 iteration: [-22.41842511  -0.33748341   7.71503221]\n",
      "Weight after 380000 iteration: [-22.41842556  -0.33748341   7.71503228]\n",
      "Weight after 385000 iteration: [-22.41842592  -0.33748341   7.71503233]\n",
      "Weight after 390000 iteration: [-22.41842621  -0.3374834    7.71503237]\n",
      "Weight after 395000 iteration: [-22.41842645  -0.3374834    7.71503241]\n",
      "Weight after 400000 iteration: [-22.41842664  -0.3374834    7.71503244]\n",
      "Weight after 405000 iteration: [-22.41842679  -0.3374834    7.71503246]\n",
      "Weight after 410000 iteration: [-22.41842692  -0.3374834    7.71503248]\n",
      "Weight after 415000 iteration: [-22.41842702  -0.3374834    7.71503249]\n",
      "Weight after 420000 iteration: [-22.4184271  -0.3374834   7.7150325]\n",
      "Weight after 425000 iteration: [-22.41842716  -0.3374834    7.71503251]\n",
      "Weight after 430000 iteration: [-22.41842721  -0.3374834    7.71503252]\n",
      "Weight after 435000 iteration: [-22.41842726  -0.3374834    7.71503253]\n",
      "Weight after 440000 iteration: [-22.41842729  -0.3374834    7.71503253]\n",
      "Weight after 445000 iteration: [-22.41842732  -0.3374834    7.71503254]\n",
      "Weight after 450000 iteration: [-22.41842734  -0.3374834    7.71503254]\n",
      "Weight after 455000 iteration: [-22.41842736  -0.3374834    7.71503254]\n",
      "Weight after 460000 iteration: [-22.41842737  -0.3374834    7.71503254]\n",
      "Weight after 465000 iteration: [-22.41842738  -0.3374834    7.71503255]\n",
      "Weight after 470000 iteration: [-22.41842739  -0.3374834    7.71503255]\n",
      "Weight after 475000 iteration: [-22.4184274   -0.3374834    7.71503255]\n",
      "Weight after 480000 iteration: [-22.41842741  -0.3374834    7.71503255]\n",
      "Weight after 485000 iteration: [-22.41842741  -0.3374834    7.71503255]\n",
      "Weight after 490000 iteration: [-22.41842741  -0.3374834    7.71503255]\n",
      "Weight after 495000 iteration: [-22.41842742  -0.3374834    7.71503255]\n"
     ]
    }
   ],
   "source": [
    "opt_w = np_solve_via_gradient_descent(train_X_new, train_y, niter=500000)"
   ]
  },
  {
   "cell_type": "code",
   "execution_count": 21,
   "metadata": {},
   "outputs": [
    {
     "data": {
      "text/plain": [
       "array([-22.41842742,  -0.3374834 ,   7.71503255])"
      ]
     },
     "execution_count": 21,
     "metadata": {},
     "output_type": "execute_result"
    }
   ],
   "source": [
    "opt_w # array([-22.41842742,  -0.3374834 ,   7.71503255])\n"
   ]
  },
  {
   "cell_type": "code",
   "execution_count": 22,
   "metadata": {},
   "outputs": [
    {
     "name": "stdout",
     "output_type": "stream",
     "text": [
      "Training cost: 18.90049122519828\n"
     ]
    }
   ],
   "source": [
    "print(\"Training cost:\", np_cost_vectorized(opt_w, train_X_new, train_y)) # Training cost: 18.90049122519828"
   ]
  },
  {
   "cell_type": "code",
   "execution_count": 23,
   "metadata": {},
   "outputs": [
    {
     "name": "stdout",
     "output_type": "stream",
     "text": [
      "Testing cost: 22.371460612916348\n"
     ]
    }
   ],
   "source": [
    "print(\"Testing cost:\", np_cost_vectorized(opt_w, test_X_new, test_y)) # Testing cost: 22.371460612916348"
   ]
  }
 ],
 "metadata": {
  "kernelspec": {
   "display_name": "Python 3.9.8 64-bit",
   "language": "python",
   "name": "python3"
  },
  "language_info": {
   "codemirror_mode": {
    "name": "ipython",
    "version": 3
   },
   "file_extension": ".py",
   "mimetype": "text/x-python",
   "name": "python",
   "nbconvert_exporter": "python",
   "pygments_lexer": "ipython3",
   "version": "3.9.8"
  },
  "orig_nbformat": 4,
  "vscode": {
   "interpreter": {
    "hash": "0d591c6e422414675974e227c13f5382000c440fedd3c5006ef2be5d887f0ba7"
   }
  }
 },
 "nbformat": 4,
 "nbformat_minor": 2
}
